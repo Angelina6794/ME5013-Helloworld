{
 "cells": [
  {
   "cell_type": "code",
   "execution_count": 1,
   "metadata": {},
   "outputs": [],
   "source": [
    "ice_cream_rating=7\n",
    "sleeping_rating=8"
   ]
  },
  {
   "cell_type": "code",
   "execution_count": 2,
   "metadata": {},
   "outputs": [
    {
     "name": "stdout",
     "output_type": "stream",
     "text": [
      "Enter first nameAngelina\n",
      "Angelina\n"
     ]
    }
   ],
   "source": [
    "first_name=input('Enter first name')\n",
    "print(first_name)"
   ]
  },
  {
   "cell_type": "code",
   "execution_count": 3,
   "metadata": {},
   "outputs": [
    {
     "name": "stdout",
     "output_type": "stream",
     "text": [
      "Enter last nameAndrade\n",
      "Andrade\n"
     ]
    }
   ],
   "source": [
    "last_name=input('Enter last name')\n",
    "print(last_name)"
   ]
  },
  {
   "cell_type": "code",
   "execution_count": 9,
   "metadata": {},
   "outputs": [
    {
     "name": "stdout",
     "output_type": "stream",
     "text": [
      "7.5\n"
     ]
    }
   ],
   "source": [
    "happiness_rating= (ice_cream_rating+sleeping_rating)/2\n",
    "print(happiness_rating)"
   ]
  },
  {
   "cell_type": "code",
   "execution_count": 19,
   "metadata": {},
   "outputs": [
    {
     "name": "stdout",
     "output_type": "stream",
     "text": [
      "My name is Angelina and I give eating ice cream a score of 7 out of 10!\n",
      "I am Angelina Andrade and my sleeping enjoyment rating is 8 /10!\n",
      "Based on the factors above, my happiness rating is 7.5 out of 10, or 75.0 %!\n"
     ]
    }
   ],
   "source": [
    "print(\"My name is\", first_name, \"and I give eating ice cream a score of\", ice_cream_rating, \"out of 10!\")\n",
    "print(\"I am\", first_name, last_name, \"and my sleeping enjoyment rating is\", sleeping_rating, \"/10!\")\n",
    "print(\"Based on the factors above, my happiness rating is\", happiness_rating,\"out of 10, or\",happiness_rating*10,\"%!\")"
   ]
  },
  {
   "cell_type": "code",
   "execution_count": null,
   "metadata": {},
   "outputs": [],
   "source": []
  }
 ],
 "metadata": {
  "kernelspec": {
   "display_name": "Python 3",
   "language": "python",
   "name": "python3"
  },
  "language_info": {
   "codemirror_mode": {
    "name": "ipython",
    "version": 3
   },
   "file_extension": ".py",
   "mimetype": "text/x-python",
   "name": "python",
   "nbconvert_exporter": "python",
   "pygments_lexer": "ipython3",
   "version": "3.8.5"
  }
 },
 "nbformat": 4,
 "nbformat_minor": 4
}
